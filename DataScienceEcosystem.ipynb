{
 "cells": [
  {
   "cell_type": "markdown",
   "id": "60965ea1-7e91-4890-b018-46bb17c48205",
   "metadata": {},
   "source": [
    "# Data Science Tools and Ecosystem"
   ]
  },
  {
   "cell_type": "markdown",
   "id": "81160efc-36ff-4887-939f-3dde5edcb21c",
   "metadata": {},
   "source": [
    "In this notebook, Data Science Tools and Ecosystem are summarized."
   ]
  },
  {
   "cell_type": "markdown",
   "id": "a86a24e7-58fc-4a21-8d4b-a825685f80b6",
   "metadata": {},
   "source": [
    "Some of the popular languages that Data Scientists use are:\n",
    "1. R Language\n",
    "2. Python\n",
    "3. SQL"
   ]
  },
  {
   "cell_type": "markdown",
   "id": "2423b573-6310-4073-9f2c-8e7108f91dd8",
   "metadata": {},
   "source": [
    "Some of the commonly used libraries used by Data Scientists include:\n",
    "* ggplot\n",
    "* ggpairs\n",
    "* print\n",
    "* numpy\n",
    "* pandas"
   ]
  },
  {
   "cell_type": "markdown",
   "id": "4f54efc6-df2d-4379-a900-6fb4b93f7dc7",
   "metadata": {},
   "source": [
    "| Data Science Tools |\n",
    "|--------------------|\n",
    "| R CODE |\n",
    "| Python |\n",
    "|IBM WATSON STUDIO|"
   ]
  },
  {
   "cell_type": "markdown",
   "id": "fcb5212d-0b68-4faa-95c1-cf0ce1557329",
   "metadata": {},
   "source": [
    "### Below are a few examples of evaluating arithmetic expressions in Python"
   ]
  },
  {
   "cell_type": "code",
   "execution_count": 1,
   "id": "fb2d8eb6-ca45-4dba-9ccf-4de754e38b69",
   "metadata": {},
   "outputs": [
    {
     "data": {
      "text/plain": [
       "17"
      ]
     },
     "execution_count": 1,
     "metadata": {},
     "output_type": "execute_result"
    }
   ],
   "source": [
    "# This a simple arithmetic expression to mutiply then add integers\n",
    "(3*4)+5\n"
   ]
  },
  {
   "cell_type": "code",
   "execution_count": 2,
   "id": "3155f06c-523d-40f0-bb07-a095a0562cb4",
   "metadata": {},
   "outputs": [
    {
     "data": {
      "text/plain": [
       "3.3333333333333335"
      ]
     },
     "execution_count": 2,
     "metadata": {},
     "output_type": "execute_result"
    }
   ],
   "source": [
    "# This will convert 200 minutes to hours by diving by 60\n",
    "\n",
    "(200/60)"
   ]
  },
  {
   "cell_type": "markdown",
   "id": "43a89cc8-bd7d-46de-911f-c0280f91c4fc",
   "metadata": {},
   "source": [
    "**Objectives**\n",
    "*  to explore, sort and analyze megadata from various sources\n",
    "*  to take advantage of them and reach conclusions to optimize business processes or for decision support\n",
    "*  to know the List popular languages for Data Science"
   ]
  },
  {
   "cell_type": "markdown",
   "id": "0348949e-04d4-4288-9132-97036ef64f51",
   "metadata": {},
   "source": [
    "## AUTHOR\n",
    "Qawsar Ali "
   ]
  },
  {
   "cell_type": "code",
   "execution_count": null,
   "id": "e46c9759-a1b4-4f3b-bc2b-41ead260e1bc",
   "metadata": {},
   "outputs": [],
   "source": []
  }
 ],
 "metadata": {
  "kernelspec": {
   "display_name": "Python 3 (ipykernel)",
   "language": "python",
   "name": "python3"
  },
  "language_info": {
   "codemirror_mode": {
    "name": "ipython",
    "version": 3
   },
   "file_extension": ".py",
   "mimetype": "text/x-python",
   "name": "python",
   "nbconvert_exporter": "python",
   "pygments_lexer": "ipython3",
   "version": "3.11.9"
  }
 },
 "nbformat": 4,
 "nbformat_minor": 5
}
